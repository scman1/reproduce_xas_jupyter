{
 "cells": [
  {
   "cell_type": "markdown",
   "id": "0d726f8b",
   "metadata": {},
   "source": [
    "\n",
    "# Fibonacci numbers\n",
    "\n",
    "Fibonacci numbers are a famous sequence where each number is made by adding together the previous two, starting with 0 and 1.\n",
    "\n",
    "What happens if we start with different input values?\n",
    "\n",
    "Copied from the examples for [nbparameterise](https://github.com/takluyver/nbparameterise/blob/master/examples/Fibonacci.ipynb).\n",
    "\n",
    "To install run: and then create the script to modify the notebook.\n",
    "\n",
    "\n",
    "```pip install nbparameterise```\n"
   ]
  },
  {
   "cell_type": "code",
   "execution_count": null,
   "id": "a887c7ec",
   "metadata": {},
   "outputs": [],
   "source": [
    "F0 = 0\n",
    "F1 = 1\n",
    "N = 20  # How many numbers to generate"
   ]
  },
  {
   "cell_type": "code",
   "execution_count": null,
   "id": "fd0e80fb",
   "metadata": {},
   "outputs": [],
   "source": [
    "print(F0)\n",
    "a, b = F0, F1\n",
    "for _ in range(N):\n",
    "    a, b = b, a + b\n",
    "    print(a)"
   ]
  },
  {
   "cell_type": "markdown",
   "id": "503da17e",
   "metadata": {},
   "source": [
    "Dividing consecutive Fibonacci numbers gives numbers which get closer to the [golden ratio](https://en.wikipedia.org/wiki/Golden_ratio).\n"
   ]
  },
  {
   "cell_type": "code",
   "execution_count": null,
   "id": "69d05fdc",
   "metadata": {},
   "outputs": [],
   "source": [
    "ratios = []\n",
    "a, b = F0, F1\n",
    "for _ in range(N):\n",
    "    a, b = b, a + b\n",
    "    ratios.append(b / a)"
   ]
  },
  {
   "cell_type": "code",
   "execution_count": null,
   "id": "7d595f4f",
   "metadata": {},
   "outputs": [],
   "source": [
    "%matplotlib inline\n",
    "import matplotlib.pyplot as plt"
   ]
  },
  {
   "cell_type": "code",
   "execution_count": null,
   "id": "f1a6683d",
   "metadata": {},
   "outputs": [],
   "source": [
    "from math import sqrt\n",
    "plt.plot(ratios)\n",
    "phi = (1 + sqrt(5)) / 2   # The golden ratio\n",
    "plt.hlines(phi, xmin=0, xmax=N, linestyles='dotted')"
   ]
  },
  {
   "cell_type": "code",
   "execution_count": null,
   "id": "8a35cf6a",
   "metadata": {},
   "outputs": [],
   "source": []
  }
 ],
 "metadata": {
  "kernelspec": {
   "display_name": "Python 3 (ipykernel)",
   "language": "python",
   "name": "python3"
  },
  "language_info": {
   "codemirror_mode": {
    "name": "ipython",
    "version": 3
   },
   "file_extension": ".py",
   "mimetype": "text/x-python",
   "name": "python",
   "nbconvert_exporter": "python",
   "pygments_lexer": "ipython3",
   "version": "3.9.2rc1"
  }
 },
 "nbformat": 4,
 "nbformat_minor": 5
}
